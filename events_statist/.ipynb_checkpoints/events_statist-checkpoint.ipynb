{
 "cells": [
  {
   "cell_type": "code",
   "execution_count": 1,
   "id": "475cec50",
   "metadata": {},
   "outputs": [],
   "source": [
    "import pandas as pd\n",
    "import yaml\n",
    "from tqdm import tqdm"
   ]
  },
  {
   "cell_type": "code",
   "execution_count": 2,
   "id": "7b126ca8",
   "metadata": {},
   "outputs": [],
   "source": [
    "df = pd.read_csv('events_statist.csv')"
   ]
  },
  {
   "cell_type": "code",
   "execution_count": 3,
   "id": "59aa984d",
   "metadata": {},
   "outputs": [],
   "source": [
    "df = df[df['Уже есть в статисте?']!='Возможно']"
   ]
  },
  {
   "cell_type": "code",
   "execution_count": 4,
   "id": "60077382",
   "metadata": {},
   "outputs": [],
   "source": [
    "data = df[['Event', 'описание', 'Количество параметров', 'Параметр', 'Описание параметра']]"
   ]
  },
  {
   "cell_type": "code",
   "execution_count": 5,
   "id": "440e971e",
   "metadata": {},
   "outputs": [],
   "source": [
    "data.columns = ['event', 'event_disc', 'params_qty', 'param', 'param_disc']"
   ]
  },
  {
   "cell_type": "code",
   "execution_count": 6,
   "id": "f3016dea",
   "metadata": {},
   "outputs": [
    {
     "name": "stderr",
     "output_type": "stream",
     "text": [
      "/var/folders/w5/rpr1j8nx0tnb8w7bgcg6pfm00000gq/T/ipykernel_5186/2837397953.py:1: SettingWithCopyWarning: \n",
      "A value is trying to be set on a copy of a slice from a DataFrame.\n",
      "Try using .loc[row_indexer,col_indexer] = value instead\n",
      "\n",
      "See the caveats in the documentation: https://pandas.pydata.org/pandas-docs/stable/user_guide/indexing.html#returning-a-view-versus-a-copy\n",
      "  data.event_disc = data.event_disc.fillna('Необходимо добавить описание события')\n",
      "/var/folders/w5/rpr1j8nx0tnb8w7bgcg6pfm00000gq/T/ipykernel_5186/2837397953.py:2: SettingWithCopyWarning: \n",
      "A value is trying to be set on a copy of a slice from a DataFrame.\n",
      "Try using .loc[row_indexer,col_indexer] = value instead\n",
      "\n",
      "See the caveats in the documentation: https://pandas.pydata.org/pandas-docs/stable/user_guide/indexing.html#returning-a-view-versus-a-copy\n",
      "  data.param_disc = data.param_disc.fillna('Необходимо добавить описание параметра')\n"
     ]
    }
   ],
   "source": [
    "data.event_disc = data.event_disc.fillna('Необходимо добавить описание события')\n",
    "data.param_disc = data.param_disc.fillna('Необходимо добавить описание параметра')"
   ]
  },
  {
   "cell_type": "code",
   "execution_count": 15,
   "id": "3886320e",
   "metadata": {},
   "outputs": [
    {
     "name": "stderr",
     "output_type": "stream",
     "text": [
      "\n",
      "  0%|                                                   | 0/835 [00:00<?, ?it/s]\u001b[A\n",
      "  4%|█▌                                       | 31/835 [00:00<00:02, 302.68it/s]\u001b[A\n",
      "  7%|███                                      | 62/835 [00:00<00:03, 230.25it/s]\u001b[A\n",
      " 11%|████▌                                    | 93/835 [00:00<00:02, 260.23it/s]\u001b[A\n",
      " 15%|██████                                  | 126/835 [00:00<00:02, 283.16it/s]\u001b[A\n",
      " 19%|███████▌                                | 157/835 [00:00<00:02, 290.88it/s]\u001b[A\n",
      " 22%|████████▉                               | 187/835 [00:00<00:02, 284.47it/s]\u001b[A\n",
      " 26%|██████████▌                             | 220/835 [00:00<00:02, 297.79it/s]\u001b[A\n",
      " 30%|████████████                            | 251/835 [00:00<00:01, 296.52it/s]\u001b[A\n",
      " 34%|█████████████▌                          | 284/835 [00:00<00:01, 306.09it/s]\u001b[A\n",
      " 38%|███████████████▏                        | 318/835 [00:01<00:01, 314.33it/s]\u001b[A\n",
      " 42%|████████████████▊                       | 351/835 [00:01<00:01, 318.84it/s]\u001b[A\n",
      " 46%|██████████████████▍                     | 384/835 [00:01<00:01, 310.39it/s]\u001b[A\n",
      " 50%|███████████████████▉                    | 417/835 [00:01<00:01, 315.58it/s]\u001b[A\n",
      " 54%|█████████████████████▋                  | 453/835 [00:01<00:01, 327.97it/s]\u001b[A\n",
      " 58%|███████████████████████▍                | 488/835 [00:01<00:01, 333.50it/s]\u001b[A\n",
      " 63%|█████████████████████████               | 522/835 [00:01<00:01, 311.86it/s]\u001b[A\n",
      " 67%|██████████████████████████▋             | 557/835 [00:01<00:00, 321.64it/s]\u001b[A\n",
      " 71%|████████████████████████████▎           | 590/835 [00:01<00:00, 318.69it/s]\u001b[A\n",
      " 75%|█████████████████████████████▊          | 623/835 [00:02<00:00, 312.83it/s]\u001b[A\n",
      " 78%|███████████████████████████████▍        | 655/835 [00:02<00:00, 311.25it/s]\u001b[A\n",
      " 83%|█████████████████████████████████       | 691/835 [00:02<00:00, 324.27it/s]\u001b[A\n",
      " 87%|██████████████████████████████████▋     | 724/835 [00:02<00:00, 319.64it/s]\u001b[A\n",
      " 91%|████████████████████████████████████▎   | 757/835 [00:02<00:00, 313.52it/s]\u001b[A\n",
      " 95%|█████████████████████████████████████▊  | 790/835 [00:02<00:00, 316.93it/s]\u001b[A\n",
      "100%|████████████████████████████████████████| 835/835 [00:02<00:00, 293.05it/s]\u001b[A\n"
     ]
    }
   ],
   "source": [
    "for event in tqdm(data.event.unique()):\n",
    "    #print(event)\n",
    "    \n",
    "    iter_event_df = data[data['event']==event]\n",
    "\n",
    "    e_disc = iter_event_df.event_disc[:1].squeeze()\n",
    "\n",
    "    params_dict = {}\n",
    "\n",
    "    if iter_event_df.params_qty[:1].squeeze() > 0:\n",
    "        for p in iter_event_df.param.unique():\n",
    "            p_disc = iter_event_df[iter_event_df['param']==p]['param_disc'].squeeze()\n",
    "\n",
    "            params_dict.update({p: {'meta': {'description': p_disc},\n",
    "                                    'alias': p, 'type': 'String', 'nullable': False}})\n",
    "\n",
    "    event_file = {\n",
    "        'meta': {'description': e_disc,\n",
    "                 'maintainers': [],\n",
    "                 'tasks': [],\n",
    "                 'labels': ['sme_transfer_script']},\n",
    "        'alias': {'system': 'amplitude',\n",
    "                  'name': event},\n",
    "        'parameters': params_dict,\n",
    "        'settings': {},\n",
    "        'clickhouse': {\n",
    "            'enabled': True}\n",
    "\n",
    "    }\n",
    "\n",
    "    with open(f'sme_amplitude_events/{event}.yml', 'w') as file:\n",
    "        try:\n",
    "            yaml.dump(event_file, file, allow_unicode=True)\n",
    "        except yaml.YAMLError as exc:\n",
    "            print(exc)"
   ]
  },
  {
   "cell_type": "code",
   "execution_count": null,
   "id": "20f1c47f",
   "metadata": {},
   "outputs": [],
   "source": []
  },
  {
   "cell_type": "code",
   "execution_count": null,
   "id": "f8bb4b23",
   "metadata": {},
   "outputs": [],
   "source": []
  }
 ],
 "metadata": {
  "kernelspec": {
   "display_name": "Python 3 (ipykernel)",
   "language": "python",
   "name": "python3"
  },
  "language_info": {
   "codemirror_mode": {
    "name": "ipython",
    "version": 3
   },
   "file_extension": ".py",
   "mimetype": "text/x-python",
   "name": "python",
   "nbconvert_exporter": "python",
   "pygments_lexer": "ipython3",
   "version": "3.9.13"
  }
 },
 "nbformat": 4,
 "nbformat_minor": 5
}
